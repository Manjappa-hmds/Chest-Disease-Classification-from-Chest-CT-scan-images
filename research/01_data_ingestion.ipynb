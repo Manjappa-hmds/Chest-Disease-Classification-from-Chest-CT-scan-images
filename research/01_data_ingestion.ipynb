{
 "cells": [
  {
   "cell_type": "code",
   "execution_count": 1,
   "metadata": {},
   "outputs": [],
   "source": [
    "import os"
   ]
  },
  {
   "cell_type": "code",
   "execution_count": 2,
   "metadata": {},
   "outputs": [
    {
     "data": {
      "text/plain": [
       "'d:\\\\Ineuron_projects\\\\Chest-Disease-Classification-from-Chest-CT-scan-images\\\\research'"
      ]
     },
     "execution_count": 2,
     "metadata": {},
     "output_type": "execute_result"
    }
   ],
   "source": [
    "# to check current working directory\n",
    "%pwd"
   ]
  },
  {
   "cell_type": "code",
   "execution_count": 3,
   "metadata": {},
   "outputs": [],
   "source": [
    "#\n",
    "os.chdir(\"../\")"
   ]
  },
  {
   "cell_type": "code",
   "execution_count": 4,
   "metadata": {},
   "outputs": [
    {
     "data": {
      "text/plain": [
       "'d:\\\\Ineuron_projects\\\\Chest-Disease-Classification-from-Chest-CT-scan-images'"
      ]
     },
     "execution_count": 4,
     "metadata": {},
     "output_type": "execute_result"
    }
   ],
   "source": [
    "%pwd"
   ]
  },
  {
   "cell_type": "code",
   "execution_count": 6,
   "metadata": {},
   "outputs": [
    {
     "data": {
      "text/plain": [
       "\"\\nThis code defines a dataclass named `DataIngestionConfig` using the `dataclasses` library and `Path` objects from the `pathlib` library in Python. Here's a breakdown:\\n\\n1. **Imports:**\\n   - `from dataclasses import dataclass`: This line imports the `dataclass` decorator from the `dataclasses` library. This decorator helps create classes with automatic functionalities like `__init__` and getters.\\n   - `from pathlib import Path`: This imports the `Path` class from the `pathlib` library. This class offers a convenient way to handle file paths in Python.\\n\\n2. **Dataclass Definition:**\\n   - `@dataclass(frozen=True)`: This line defines a dataclass named `DataIngestionConfig`. The `@dataclass` decorator tells Python to generate boilerplate code for the class, including an `__init__` method and methods to access attributes. The `frozen=True` argument makes the class immutable, meaning its attributes cannot be changed after creation.\\n\\n3. **Attributes:**\\n   - `root_dir: Path`: This defines an attribute named `root_dir` with a type hint of `Path`. This indicates that the `root_dir` attribute should hold a path object representing the root directory where data will be stored.\\n   - `source_URL: str`: This defines an attribute named `source_URL` with a type hint of `str`. This attribute stores the URL from which the data will be downloaded.\\n   - `local_data_file: Path`: This defines an attribute named `local_data_file` with a type hint of `Path`. This attribute represents the path to the local file where the downloaded data will be saved.\\n   - `unzip_dir: Path`: This defines an attribute named `unzip_dir` with a type hint of `Path`. This attribute represents the path to the directory where the downloaded data will be unzipped (if applicable).\\n\\nIn essence, this code defines a configuration class specifically for data ingestion tasks. It ensures data paths are handled correctly (using `Path`) and makes the configuration object immutable (`frozen=True`). This promotes data integrity and clarity in your code. \""
      ]
     },
     "execution_count": 6,
     "metadata": {},
     "output_type": "execute_result"
    }
   ],
   "source": [
    "# for entity \n",
    "from dataclasses import dataclass\n",
    "from pathlib import Path\n",
    "\n",
    "\n",
    "@dataclass(frozen=True)\n",
    "class DataIngestionConfig:\n",
    "    root_dir: Path\n",
    "    source_URL: str\n",
    "    local_data_file: Path\n",
    "    unzip_dir: Path\n",
    "    \n",
    "'''\n",
    "This code defines a dataclass named `DataIngestionConfig` using the `dataclasses` library and `Path` objects from the `pathlib` library in Python. Here's a breakdown:\n",
    "\n",
    "1. **Imports:**\n",
    "   - `from dataclasses import dataclass`: This line imports the `dataclass` decorator from the `dataclasses` library. This decorator helps create classes with automatic functionalities like `__init__` and getters.\n",
    "   - `from pathlib import Path`: This imports the `Path` class from the `pathlib` library. This class offers a convenient way to handle file paths in Python.\n",
    "\n",
    "2. **Dataclass Definition:**\n",
    "   - `@dataclass(frozen=True)`: This line defines a dataclass named `DataIngestionConfig`. The `@dataclass` decorator tells Python to generate boilerplate code for the class, including an `__init__` method and methods to access attributes. The `frozen=True` argument makes the class immutable, meaning its attributes cannot be changed after creation.\n",
    "\n",
    "3. **Attributes:**\n",
    "   - `root_dir: Path`: This defines an attribute named `root_dir` with a type hint of `Path`. This indicates that the `root_dir` attribute should hold a path object representing the root directory where data will be stored.\n",
    "   - `source_URL: str`: This defines an attribute named `source_URL` with a type hint of `str`. This attribute stores the URL from which the data will be downloaded.\n",
    "   - `local_data_file: Path`: This defines an attribute named `local_data_file` with a type hint of `Path`. This attribute represents the path to the local file where the downloaded data will be saved.\n",
    "   - `unzip_dir: Path`: This defines an attribute named `unzip_dir` with a type hint of `Path`. This attribute represents the path to the directory where the downloaded data will be unzipped (if applicable).\n",
    "\n",
    "In essence, this code defines a configuration class specifically for data ingestion tasks. It ensures data paths are handled correctly (using `Path`) and makes the configuration object immutable (`frozen=True`). This promotes data integrity and clarity in your code. '''\n"
   ]
  },
  {
   "cell_type": "code",
   "execution_count": 17,
   "metadata": {},
   "outputs": [],
   "source": [
    "# testing the paths \n",
    "\n",
    "from cnnClassifier.constants import *\n",
    "from cnnClassifier.utils.common import read_yaml, create_directories"
   ]
  },
  {
   "cell_type": "code",
   "execution_count": 11,
   "metadata": {},
   "outputs": [
    {
     "name": "stdout",
     "output_type": "stream",
     "text": [
      "config\\config.yaml\n",
      "**********\n",
      "params.yaml\n"
     ]
    }
   ],
   "source": [
    "print(CONFIG_FILE_PATH)\n",
    "print(\"*\" * 10)\n",
    "print(PARAMS_FILE_PATH)"
   ]
  },
  {
   "cell_type": "code",
   "execution_count": 12,
   "metadata": {},
   "outputs": [],
   "source": [
    "# Update the configuration manager\n",
    "class ConfigurationManager:\n",
    "    def __init__(\n",
    "        self,\n",
    "        config_filepath = CONFIG_FILE_PATH,\n",
    "        params_filepath = PARAMS_FILE_PATH):\n",
    "\n",
    "        self.config = read_yaml(config_filepath)\n",
    "        self.params = read_yaml(params_filepath)\n",
    "\n",
    "        create_directories([self.config.artifacts_root])\n",
    "\n",
    "\n",
    "    \n",
    "    def get_data_ingestion_config(self) -> DataIngestionConfig:\n",
    "        config = self.config.data_ingestion\n",
    "\n",
    "        create_directories([config.root_dir])\n",
    "\n",
    "        data_ingestion_config = DataIngestionConfig(\n",
    "            root_dir=config.root_dir,\n",
    "            source_URL=config.source_URL,\n",
    "            local_data_file=config.local_data_file,\n",
    "            unzip_dir=config.unzip_dir \n",
    "        )\n",
    "\n",
    "        return data_ingestion_config"
   ]
  },
  {
   "cell_type": "code",
   "execution_count": 13,
   "metadata": {},
   "outputs": [],
   "source": [
    "import os\n",
    "import zipfile\n",
    "import gdown\n",
    "from cnnClassifier import logger\n",
    "from cnnClassifier.utils.common import get_size"
   ]
  },
  {
   "cell_type": "code",
   "execution_count": 18,
   "metadata": {},
   "outputs": [],
   "source": [
    "# Update the components\n",
    "class DataIngestion:\n",
    "    def __init__(self, config: DataIngestionConfig):\n",
    "        self.config = config\n",
    "\n",
    "\n",
    "    \n",
    "     \n",
    "    def download_file(self)-> str:\n",
    "        '''\n",
    "        Fetch data from the url\n",
    "        '''\n",
    "\n",
    "        try: \n",
    "            dataset_url = self.config.source_URL\n",
    "            zip_download_dir = self.config.local_data_file\n",
    "            os.makedirs(\"artifacts/data_ingestion\", exist_ok=True)\n",
    "            logger.info(f\"Downloading data from {dataset_url} into file {zip_download_dir}\")\n",
    "\n",
    "            file_id = dataset_url.split(\"/\")[-2]\n",
    "            prefix = 'https://drive.google.com/uc?/export=download&id='\n",
    "            gdown.download(prefix+file_id,zip_download_dir)\n",
    "\n",
    "            logger.info(f\"Downloaded data from {dataset_url} into file {zip_download_dir}\")\n",
    "\n",
    "        except Exception as e:\n",
    "            raise e\n",
    "        \n",
    "    \n",
    "    def extract_zip_file(self):\n",
    "        \"\"\"\n",
    "        zip_file_path: str\n",
    "        Extracts the zip file into the data directory\n",
    "        Function returns None\n",
    "        \"\"\"\n",
    "        unzip_path = self.config.unzip_dir\n",
    "        os.makedirs(unzip_path, exist_ok=True)\n",
    "        with zipfile.ZipFile(self.config.local_data_file, 'r') as zip_ref:\n",
    "            zip_ref.extractall(unzip_path)\n",
    "    \n",
    "    \n",
    "    def extract_zip_file(self):\n",
    "        \"\"\"\n",
    "        zip_file_path: str\n",
    "        Extracts the zip file into the data directory\n",
    "        Function returns None\n",
    "        \"\"\"\n",
    "        unzip_path = self.config.unzip_dir\n",
    "        os.makedirs(unzip_path, exist_ok=True)\n",
    "        with zipfile.ZipFile(self.config.local_data_file, 'r') as zip_ref:\n",
    "            zip_ref.extractall(unzip_path)"
   ]
  },
  {
   "cell_type": "code",
   "execution_count": 21,
   "metadata": {},
   "outputs": [
    {
     "name": "stdout",
     "output_type": "stream",
     "text": [
      "[2024-03-13 16:03:26,280: INFO: common: yaml file: config\\config.yaml loaded successfully]\n",
      "[2024-03-13 16:03:26,283: INFO: common: yaml file: params.yaml loaded successfully]\n",
      "[2024-03-13 16:03:26,285: INFO: common: created directory at: artifacts]\n",
      "[2024-03-13 16:03:26,287: INFO: common: created directory at: artifacts/data_ingestion]\n",
      "[2024-03-13 16:03:26,288: INFO: 3654218236: Downloading data from https://drive.google.com/file/d/13bzvXuPl51k5btdaI1KAiYE4HjIrbB2Q/view?usp=drive_link into file artifacts/data_ingestion/data.zip]\n"
     ]
    },
    {
     "name": "stderr",
     "output_type": "stream",
     "text": [
      "Downloading...\n",
      "From (original): https://drive.google.com/uc?/export=download&id=13bzvXuPl51k5btdaI1KAiYE4HjIrbB2Q\n",
      "From (redirected): https://drive.usercontent.google.com/download?id=13bzvXuPl51k5btdaI1KAiYE4HjIrbB2Q&confirm=t&uuid=b22c7fef-3933-4b89-b827-2d19ec7f367b\n",
      "To: d:\\Ineuron_projects\\Chest-Disease-Classification-from-Chest-CT-scan-images\\artifacts\\data_ingestion\\data.zip\n",
      "100%|██████████| 49.0M/49.0M [00:13<00:00, 3.66MB/s]"
     ]
    },
    {
     "name": "stdout",
     "output_type": "stream",
     "text": [
      "[2024-03-13 16:03:41,329: INFO: 3654218236: Downloaded data from https://drive.google.com/file/d/13bzvXuPl51k5btdaI1KAiYE4HjIrbB2Q/view?usp=drive_link into file artifacts/data_ingestion/data.zip]\n"
     ]
    },
    {
     "name": "stderr",
     "output_type": "stream",
     "text": [
      "\n"
     ]
    }
   ],
   "source": [
    "# pipeline \n",
    "\n",
    "try:\n",
    "    config = ConfigurationManager()\n",
    "    data_ingestion_config = config.get_data_ingestion_config()\n",
    "    data_ingestion = DataIngestion(config=data_ingestion_config)\n",
    "    data_ingestion.download_file()\n",
    "    data_ingestion.extract_zip_file()\n",
    "except Exception as e:\n",
    "    raise e"
   ]
  }
 ],
 "metadata": {
  "kernelspec": {
   "display_name": "chest",
   "language": "python",
   "name": "python3"
  },
  "language_info": {
   "codemirror_mode": {
    "name": "ipython",
    "version": 3
   },
   "file_extension": ".py",
   "mimetype": "text/x-python",
   "name": "python",
   "nbconvert_exporter": "python",
   "pygments_lexer": "ipython3",
   "version": "3.8.18"
  }
 },
 "nbformat": 4,
 "nbformat_minor": 2
}
